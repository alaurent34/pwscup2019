{
 "cells": [
  {
   "cell_type": "code",
   "execution_count": 77,
   "metadata": {},
   "outputs": [],
   "source": [
    "import pandas as pd\n",
    "import numpy as np\n",
    "from distance_benchmark import compute_pfipf"
   ]
  },
  {
   "cell_type": "code",
   "execution_count": 18,
   "metadata": {},
   "outputs": [],
   "source": [
    "org_cell = np.load(\"../data/testing_data/output_org_osaka20/cell_traj.npy\")\n",
    "ref_cell = np.load(\"../data/testing_data/output_ref_osaka20/cell_traj.npy\")"
   ]
  },
  {
   "cell_type": "code",
   "execution_count": 307,
   "metadata": {},
   "outputs": [
    {
     "data": {
      "image/png": "[encoded data removed]",
      "text/plain": [
       "<Figure size 504x360 with 1 Axes>"
      ]
     },
     "metadata": {
      "needs_background": "light"
     },
     "output_type": "display_data"
    }
   ],
   "source": [
    "import matplotlib.pyplot as plt\n",
    "\n",
    "@njit\n",
    "def histogram_nb_visit(arr):\n",
    "    assert arr.ndim == 2\n",
    "    res = np.zeros(arr.shape[0])\n",
    "    for i in range(arr.shape[0]):\n",
    "        res[i] = np.unique(arr[i]).shape[0]\n",
    "    return res\n",
    "\n",
    "fig, ax1 = plt.subplots(1, figsize=(7, 5))\n",
    "fig.suptitle('Distribution du nombre de cellules')\n",
    "ax1.hist(histogram_nb_visit(org_cell[:, :]), rwidth=0.75)\n",
    "ax1.set_xlabel(\"Nombre de cellules visitées sur 20 jours\")\n",
    "ax1.set_ylabel(\"Nombre d'utilisateurs\")\n",
    "plt.show()"
   ]
  },
  {
   "cell_type": "code",
   "execution_count": 189,
   "metadata": {},
   "outputs": [],
   "source": [
    "fun_exp = [1, 1, 2, 3]\n",
    "fun_exp_pfipf = [1, 1, 2, 3]"
   ]
  },
  {
   "cell_type": "code",
   "execution_count": 315,
   "metadata": {},
   "outputs": [],
   "source": [
    "def mv_cell(cell_number, x, y):\n",
    "    x_pos = cell_number % 32\n",
    "    x_pos = 32 if x_pos == 0 else x_pos\n",
    "    y_pos = int((cell_number - 1) / 32)\n",
    "    \n",
    "    #assert 1 <= x_pos + x < 33, \"depassing x limits\"\n",
    "    #assert 0 <= y_pos + y < 32, \"depassing y limits\"\n",
    "    if not ((1 <= x_pos + x < 33)) or not((0 <= y_pos + y < 32)):\n",
    "        return cell_number\n",
    "    \n",
    "    x_pos += x\n",
    "    y_pos += y\n",
    "    \n",
    "    return x_pos + 32*(y_pos)\n",
    "\n",
    "def freq_pos_pers(array_pos):\n",
    "    pos, frq = np.unique(array_pos, return_counts=True)\n",
    "    frq = frq/400\n",
    "    \n",
    "    return pos, frq\n",
    "\n",
    "from tqdm import tqdm\n",
    "\n",
    "def anonymize(array):\n",
    "    \n",
    "    array = array.copy()\n",
    "    \n",
    "    for i in tqdm(range(array.shape[0])):\n",
    "        pos, freq = freq_pos_pers(array[i])\n",
    "        x = 0\n",
    "        y = 0\n",
    "        while (x == 0) and (y == 0):\n",
    "            x = np.random.randint(-1,2)\n",
    "            y = np.random.randint(-1,2)\n",
    "        #stats = pd.DataFrame(freq).describe().T\n",
    "        \n",
    "        factor = freq.copy()\n",
    "        first_perc = (int(freq.shape[0]*0.01)) or 1\n",
    "        second_perc = (int(freq.shape[0]*0.04)) + first_perc\n",
    "        third_perc = (int(freq.shape[0]*0.25)) + second_perc\n",
    "        factor[np.argsort(freq)[-first_perc:]] = fun_exp[-1]\n",
    "        factor[np.argsort(freq)[-second_perc:-first_perc]] = fun_exp[-2]\n",
    "        factor[np.argsort(freq)[-third_perc:-second_perc]] = fun_exp[-3]\n",
    "        factor[np.argsort(freq)[:-third_perc]] = fun_exp[-4]\n",
    "        #factor[np.nonzero(factor <= stats[\"25%\"].values[0])] = fun_exp[0]\n",
    "        #factor[np.nonzero(np.logical_and(factor > stats[\"25%\"].values[0], factor <= stats[\"50%\"].values[0]))] = fun_exp[1]\n",
    "        #factor[np.nonzero(np.logical_and(factor > stats[\"50%\"].values[0], factor <= stats[\"75%\"].values[0]))] = fun_exp[2]\n",
    "        #factor[np.nonzero(np.logical_and(factor > stats[\"75%\"].values[0], factor < 1))] = fun_exp[3]j\n",
    "        \n",
    "        for j in range(array[i].shape[0]):\n",
    "            cell = array[i][j].copy()\n",
    "            factor_j = factor[np.where(pos == cell)[0]]\n",
    "            array[i][j] = mv_cell(cell, x*factor_j, y*factor_j)\n",
    "            \n",
    "    return array\n",
    "\n",
    "def anonymize_pfipf(array, first=0.03, second=0.02, third=0.25, random=False):\n",
    "    array = array.copy()\n",
    "    pfipf = compute_pfipf(array, number_people=2000, upper_bound=1024)\n",
    "    \n",
    "    for i in tqdm(range(array.shape[0])):\n",
    "        x = 0\n",
    "        y = 0\n",
    "        while (x == 0) and (y == 0):\n",
    "            x = np.random.randint(-1,2)\n",
    "            y = np.random.randint(-1,2)\n",
    "            \n",
    "        first_perc = (int(np.count_nonzero(pfipf[i])*first)) or 5\n",
    "        second_perc = (int(np.count_nonzero(pfipf[i])*second)) + first_perc\n",
    "        third_perc = (int(np.count_nonzero(pfipf[i])*third)) + second_perc\n",
    "\n",
    "        factor = pfipf[i].copy()\n",
    "        factor[np.argsort(pfipf[i])[-first_perc:]] = fun_exp_pfipf[-1]\n",
    "        factor[np.argsort(pfipf[i])[-second_perc:-first_perc]] = fun_exp_pfipf[-2]\n",
    "        factor[np.argsort(pfipf[i])[-third_perc:-second_perc]] = fun_exp_pfipf[-3]\n",
    "        factor[np.argsort(pfipf[i])[:-third_perc]] = fun_exp_pfipf[-4]\n",
    "        \n",
    "        # first pfipf send at random\n",
    "        if random:\n",
    "            factor[np.argsort(pfipf[i])[-1]] = -1\n",
    "        \n",
    "        for j in range(array[i].shape[0]):\n",
    "                cell = array[i][j].copy()\n",
    "                factor_j = factor[cell]\n",
    "                if factor_j == -1:\n",
    "                    array[i][j] = np.random.randint(1,1025)\n",
    "                else:\n",
    "                    array[i][j] = mv_cell(cell, x*factor_j, y*factor_j)\n",
    "\n",
    "    return array"
   ]
  },
  {
   "cell_type": "code",
   "execution_count": 312,
   "metadata": {},
   "outputs": [
    {
     "name": "stderr",
     "output_type": "stream",
     "text": [
      "100%|██████████| 2000/2000 [00:09<00:00, 219.13it/s]\n"
     ]
    }
   ],
   "source": [
    "ano_org_cell = anonymize_pfipf(org_cell)\n",
    "\n",
    "#ano_org_cell = anonymize(org_cell)"
   ]
  },
  {
   "cell_type": "code",
   "execution_count": 313,
   "metadata": {},
   "outputs": [],
   "source": [
    "df_ano = pd.DataFrame(ano_org_cell)\n",
    "df_ano = df_ano.reset_index()\n",
    "df_ano[\"index\"] = df_ano.index + 1\n",
    "df_ano = df_ano.melt(\"index\").sort_values([\"index\", \"variable\"]).reset_index(drop=True).drop(\"variable\", axis=1)\n",
    "df_ano = df_ano.rename(columns={\"index\": \"user_id\", \"value\": \"reg_id\"})"
   ]
  },
  {
   "cell_type": "code",
   "execution_count": 314,
   "metadata": {},
   "outputs": [],
   "source": [
    "df_ano.reg_id.to_csv(\"anonymized.csv\", index=False, header=\"reg_id\")"
   ]
  },
  {
   "cell_type": "code",
   "execution_count": 290,
   "metadata": {},
   "outputs": [],
   "source": [
    "import math\n",
    "from numba import njit\n",
    "\n",
    "def create_mapping(size):\n",
    "    map_cell = {}\n",
    "    assert 32 % size == 0, \"cannot shrink map to size\"\n",
    "    for i in range(32//size):\n",
    "        for j in range(32//size):\n",
    "            cell_left_above = (j*size)+1 + (i*math.pow(size,2)*(32//size))\n",
    "            ind_cell_map = 32//size*i+j\n",
    "            map_cell[ind_cell_map] = []\n",
    "            #do something with i\n",
    "            for k in range(size):\n",
    "                for l in range(size):\n",
    "                    map_cell[ind_cell_map].append(mv_cell(cell_left_above, k, l))\n",
    "                    \n",
    "    mapping = pd.DataFrame(map_cell).T.reset_index().melt(\"index\").drop(\"variable\", axis=1).sort_values(\"value\").reset_index(drop=True)\n",
    "    mapping.columns = [\"reg_id_ext\", \"reg_id\"]\n",
    "    \n",
    "    return np.array(mapping.reg_id_ext).astype(int)+1\n",
    "\n",
    "@njit\n",
    "def mapp_cell_to_extended(array, reg_id_ext):\n",
    "    array = array.copy()\n",
    "    for i in range(array.shape[0]):\n",
    "        for j in range(array.shape[1]):\n",
    "            array[i][j] = reg_id_ext[array[i][j]-1]\n",
    "            \n",
    "    return array"
   ]
  },
  {
   "cell_type": "code",
   "execution_count": 294,
   "metadata": {},
   "outputs": [],
   "source": [
    "reg_id_ext = create_mapping(2)"
   ]
  },
  {
   "cell_type": "code",
   "execution_count": 295,
   "metadata": {},
   "outputs": [
    {
     "data": {
      "text/plain": [
       "array([[159, 111,  78, ..., 164, 134, 115],\n",
       "       [169, 169, 153, ..., 168, 168, 246],\n",
       "       [ 89,  89,  89, ...,  88,  71,  71],\n",
       "       ...,\n",
       "       [ 72,  40,  56, ..., 102, 102,  88],\n",
       "       [ 72, 121,  73, ..., 152, 152, 137],\n",
       "       [185, 185, 153, ..., 137,  88, 105]])"
      ]
     },
     "execution_count": 295,
     "metadata": {},
     "output_type": "execute_result"
    }
   ],
   "source": [
    "mapp_cell_to_extended(org_cell, reg_id_ext)"
   ]
  },
  {
   "cell_type": "code",
   "execution_count": null,
   "metadata": {},
   "outputs": [],
   "source": []
  }
 ],
 "metadata": {
  "kernelspec": {
   "display_name": "Python 3",
   "language": "python",
   "name": "python3"
  },
  "language_info": {
   "codemirror_mode": {
    "name": "ipython",
    "version": 3
   },
   "file_extension": ".py",
   "mimetype": "text/x-python",
   "name": "python",
   "nbconvert_exporter": "python",
   "pygments_lexer": "ipython3",
   "version": "3.7.4"
  }
 },
 "nbformat": 4,
 "nbformat_minor": 2
}
