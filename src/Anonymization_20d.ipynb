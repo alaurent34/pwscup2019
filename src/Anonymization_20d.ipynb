{
 "cells": [
  {
   "cell_type": "code",
   "execution_count": 77,
   "metadata": {},
   "outputs": [],
   "source": [
    "import pandas as pd\n",
    "import numpy as np\n",
    "from distance_benchmark import compute_pfipf"
   ]
  },
  {
   "cell_type": "code",
   "execution_count": 18,
   "metadata": {},
   "outputs": [],
   "source": [
    "org_cell = np.load(\"../data/testing_data/output_org_osaka20/cell_traj.npy\")\n",
    "ref_cell = np.load(\"../data/testing_data/output_ref_osaka20/cell_traj.npy\")"
   ]
  },
  {
   "cell_type": "code",
   "execution_count": 189,
   "metadata": {},
   "outputs": [],
   "source": [
    "fun_exp = [1, 1, 2, 3]\n",
    "fun_exp_pfipf = [1, 1, 2, 3]"
   ]
  },
  {
   "cell_type": "code",
   "execution_count": 144,
   "metadata": {},
   "outputs": [],
   "source": [
    "def mv_cell(cell_number, x, y):\n",
    "    x_pos = cell_number % 32\n",
    "    x_pos = 32 if x_pos == 0 else x_pos\n",
    "    y_pos = int((cell_number - 1) / 32)\n",
    "    \n",
    "    #assert 1 <= x_pos + x < 33, \"depassing x limits\"\n",
    "    #assert 0 <= y_pos + y < 32, \"depassing y limits\"\n",
    "    if not ((1 <= x_pos + x < 33)) or not((0 <= y_pos + y < 32)):\n",
    "        return cell_number\n",
    "    \n",
    "    x_pos += x\n",
    "    y_pos += y\n",
    "    \n",
    "    return x_pos + 32*(y_pos)"
   ]
  },
  {
   "cell_type": "code",
   "execution_count": 145,
   "metadata": {},
   "outputs": [],
   "source": [
    "def freq_pos_pers(array_pos):\n",
    "    pos, frq = np.unique(array_pos, return_counts=True)\n",
    "    frq = frq/400\n",
    "    \n",
    "    return pos, frq"
   ]
  },
  {
   "cell_type": "code",
   "execution_count": 146,
   "metadata": {},
   "outputs": [],
   "source": [
    "from tqdm import tqdm\n",
    "\n",
    "def anonymize(array):\n",
    "    \n",
    "    array = array.copy()\n",
    "    \n",
    "    for i in tqdm(range(array.shape[0])):\n",
    "        pos, freq = freq_pos_pers(array[i])\n",
    "        x = 0\n",
    "        y = 0\n",
    "        while (x == 0) and (y == 0):\n",
    "            x = np.random.randint(-1,2)\n",
    "            y = np.random.randint(-1,2)\n",
    "        #stats = pd.DataFrame(freq).describe().T\n",
    "        \n",
    "        factor = freq.copy()\n",
    "        first_perc = (int(freq.shape[0]*0.01)) or 1\n",
    "        second_perc = (int(freq.shape[0]*0.04)) + first_perc\n",
    "        third_perc = (int(freq.shape[0]*0.25)) + second_perc\n",
    "        factor[np.argsort(freq)[-first_perc:]] = fun_exp[-1]\n",
    "        factor[np.argsort(freq)[-second_perc:-first_perc]] = fun_exp[-2]\n",
    "        factor[np.argsort(freq)[-third_perc:-second_perc]] = fun_exp[-3]\n",
    "        factor[np.argsort(freq)[:-third_perc]] = fun_exp[-4]\n",
    "        #factor[np.nonzero(factor <= stats[\"25%\"].values[0])] = fun_exp[0]\n",
    "        #factor[np.nonzero(np.logical_and(factor > stats[\"25%\"].values[0], factor <= stats[\"50%\"].values[0]))] = fun_exp[1]\n",
    "        #factor[np.nonzero(np.logical_and(factor > stats[\"50%\"].values[0], factor <= stats[\"75%\"].values[0]))] = fun_exp[2]\n",
    "        #factor[np.nonzero(np.logical_and(factor > stats[\"75%\"].values[0], factor < 1))] = fun_exp[3]j\n",
    "        \n",
    "        for j in range(array[i].shape[0]):\n",
    "            cell = array[i][j].copy()\n",
    "            factor_j = factor[np.where(pos == cell)[0]]\n",
    "            array[i][j] = mv_cell(cell, x*factor_j, y*factor_j)\n",
    "            \n",
    "    return array"
   ]
  },
  {
   "cell_type": "code",
   "execution_count": 190,
   "metadata": {},
   "outputs": [],
   "source": [
    "def anonymize_pfipf(array):\n",
    "    array = array.copy()\n",
    "    pfipf = compute_pfipf(array, number_people=2000, upper_bound=1024)\n",
    "    \n",
    "    for i in tqdm(range(array.shape[0])):\n",
    "        x = 0\n",
    "        y = 0\n",
    "        while (x == 0) and (y == 0):\n",
    "            x = np.random.randint(-1,2)\n",
    "            y = np.random.randint(-1,2)\n",
    "            \n",
    "        first_perc = (int(np.count_nonzero(pfipf[i])*0.02)) or 20\n",
    "        second_perc = (int(np.count_nonzero(pfipf[i])*0.03)) + first_perc\n",
    "        third_perc = (int(np.count_nonzero(pfipf[i])*0.25)) + second_perc\n",
    "\n",
    "        factor = pfipf[i].copy()\n",
    "        factor[np.argsort(pfipf[i])[-first_perc:]] = fun_exp_pfipf[-1]\n",
    "        factor[np.argsort(pfipf[i])[-second_perc:-first_perc]] = fun_exp_pfipf[-2]\n",
    "        factor[np.argsort(pfipf[i])[-third_perc:-second_perc]] = fun_exp_pfipf[-3]\n",
    "        factor[np.argsort(pfipf[i])[:-third_perc]] = fun_exp_pfipf[-4]            \n",
    "        \n",
    "        for j in range(array[i].shape[0]):\n",
    "                cell = array[i][j].copy()\n",
    "                factor_j = factor[cell]\n",
    "                array[i][j] = mv_cell(cell, x*factor_j, y*factor_j)\n",
    "\n",
    "    return array"
   ]
  },
  {
   "cell_type": "code",
   "execution_count": 191,
   "metadata": {},
   "outputs": [
    {
     "name": "stderr",
     "output_type": "stream",
     "text": [
      "100%|██████████| 2000/2000 [00:08<00:00, 231.92it/s]\n"
     ]
    }
   ],
   "source": [
    "ano_org_cell = anonymize_pfipf(org_cell)\n",
    "\n",
    "#ano_org_cell = anonymize(org_cell)"
   ]
  },
  {
   "cell_type": "code",
   "execution_count": 192,
   "metadata": {},
   "outputs": [],
   "source": [
    "df_ano = pd.DataFrame(ano_org_cell)\n",
    "df_ano = df_ano.reset_index()\n",
    "df_ano[\"index\"] = df_ano.index + 1\n",
    "df_ano = df_ano.melt(\"index\").sort_values([\"index\", \"variable\"]).reset_index(drop=True).drop(\"variable\", axis=1)\n",
    "df_ano = df_ano.rename(columns={\"index\": \"user_id\", \"value\": \"reg_id\"})"
   ]
  },
  {
   "cell_type": "code",
   "execution_count": 193,
   "metadata": {},
   "outputs": [],
   "source": [
    "df_ano.reg_id.to_csv(\"anonymized.csv\", index=False, header=\"reg_id\")"
   ]
  }
 ],
 "metadata": {
  "kernelspec": {
   "display_name": "Python 3",
   "language": "python",
   "name": "python3"
  },
  "language_info": {
   "codemirror_mode": {
    "name": "ipython",
    "version": 3
   },
   "file_extension": ".py",
   "mimetype": "text/x-python",
   "name": "python",
   "nbconvert_exporter": "python",
   "pygments_lexer": "ipython3",
   "version": "3.7.4"
  }
 },
 "nbformat": 4,
 "nbformat_minor": 2
}
