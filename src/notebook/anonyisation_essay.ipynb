{
 "cells": [
  {
   "cell_type": "code",
   "execution_count": 3,
   "metadata": {},
   "outputs": [],
   "source": [
    "import pandas as pd\n",
    "import numpy as np\n",
    "from distance_benchmark import compute_pfipf"
   ]
  },
  {
   "cell_type": "markdown",
   "metadata": {},
   "source": [
    "### Init : read + pfipf"
   ]
  },
  {
   "cell_type": "code",
   "execution_count": 4,
   "metadata": {},
   "outputs": [],
   "source": [
    "path_o = \"../data/preliminary_phase/output_org_data_TRP/\"\n",
    "path_r = \"../data/testing_data/output_ref_osaka/\""
   ]
  },
  {
   "cell_type": "code",
   "execution_count": 5,
   "metadata": {},
   "outputs": [],
   "source": [
    "o_d1 = np.load(f\"{path_o}/cell_traj_d1.npy\")\n",
    "o_d2 = np.load(f\"{path_o}/cell_traj_d2.npy\")\n",
    "r_d1 = np.load(f\"{path_r}/cell_traj_d1.npy\")\n",
    "r_d2 = np.load(f\"{path_r}/cell_traj_d2.npy\")\n",
    "\n",
    "o_d1d2 = np.concatenate([o_d1, o_d2], axis=1)\n",
    "r_d1d2 = np.concatenate([r_d1, r_d2], axis=1)\n",
    "assert(o_d1d2.shape == r_d1d2.shape)"
   ]
  },
  {
   "cell_type": "code",
   "execution_count": 6,
   "metadata": {},
   "outputs": [],
   "source": [
    "pfipf_o = compute_pfipf(o_d1d2, max(o_d1d2.max(), r_d1d2.max()), o_d1d2.shape[0])\n",
    "pfipf_r = compute_pfipf(r_d1d2, max(o_d1d2.max(), r_d1d2.max()), o_d1d2.shape[0])"
   ]
  },
  {
   "cell_type": "markdown",
   "metadata": {},
   "source": [
    "### Anonymisation"
   ]
  },
  {
   "cell_type": "code",
   "execution_count": 39,
   "metadata": {},
   "outputs": [],
   "source": [
    "assert np.count_nonzero(pfipf_o >= 0.3)/2000 >= 0.7"
   ]
  },
  {
   "cell_type": "code",
   "execution_count": 50,
   "metadata": {},
   "outputs": [],
   "source": [
    "o_d1d2_ano = o_d1d2.copy()\n",
    "for i in range(o_d1d2_ano.shape[0]):\n",
    "    for j in range(o_d1d2_ano.shape[1]):\n",
    "        index = o_d1d2_ano[i][j]\n",
    "        if pfipf_o[i][index] >= 0.3 or (j < 2 or (o_d1d2_ano.shape[1]/2 <= j < (o_d1d2_ano.shape[1]/2) + 2)):\n",
    "            o_d1d2_ano[i][j] = np.random.randint(1, 1025)"
   ]
  },
  {
   "cell_type": "code",
   "execution_count": 51,
   "metadata": {},
   "outputs": [],
   "source": [
    "df_ano = pd.DataFrame(o_d1d2_ano)\n",
    "df_ano = df_ano.reset_index()\n",
    "df_ano[\"index\"] = df_ano.index + 1\n",
    "df_ano = df_ano.melt(\"index\").sort_values([\"index\", \"variable\"]).reset_index(drop=True).drop(\"variable\", axis=1)\n",
    "df_ano = df_ano.rename(columns={\"index\": \"user_id\", \"value\": \"reg_id\"})"
   ]
  },
  {
   "cell_type": "code",
   "execution_count": 42,
   "metadata": {},
   "outputs": [
    {
     "data": {
      "text/html": [
       "<div>\n",
       "<style scoped>\n",
       "    .dataframe tbody tr th:only-of-type {\n",
       "        vertical-align: middle;\n",
       "    }\n",
       "\n",
       "    .dataframe tbody tr th {\n",
       "        vertical-align: top;\n",
       "    }\n",
       "\n",
       "    .dataframe thead th {\n",
       "        text-align: right;\n",
       "    }\n",
       "</style>\n",
       "<table border=\"1\" class=\"dataframe\">\n",
       "  <thead>\n",
       "    <tr style=\"text-align: right;\">\n",
       "      <th></th>\n",
       "      <th>user_id</th>\n",
       "      <th>time_id</th>\n",
       "      <th>reg_id</th>\n",
       "    </tr>\n",
       "  </thead>\n",
       "  <tbody>\n",
       "    <tr>\n",
       "      <td>0</td>\n",
       "      <td>1</td>\n",
       "      <td>41</td>\n",
       "      <td>1016</td>\n",
       "    </tr>\n",
       "    <tr>\n",
       "      <td>1</td>\n",
       "      <td>1</td>\n",
       "      <td>42</td>\n",
       "      <td>952</td>\n",
       "    </tr>\n",
       "    <tr>\n",
       "      <td>2</td>\n",
       "      <td>1</td>\n",
       "      <td>43</td>\n",
       "      <td>951</td>\n",
       "    </tr>\n",
       "    <tr>\n",
       "      <td>3</td>\n",
       "      <td>1</td>\n",
       "      <td>44</td>\n",
       "      <td>951</td>\n",
       "    </tr>\n",
       "    <tr>\n",
       "      <td>4</td>\n",
       "      <td>1</td>\n",
       "      <td>45</td>\n",
       "      <td>763</td>\n",
       "    </tr>\n",
       "  </tbody>\n",
       "</table>\n",
       "</div>"
      ],
      "text/plain": [
       "   user_id  time_id  reg_id\n",
       "0        1       41    1016\n",
       "1        1       42     952\n",
       "2        1       43     951\n",
       "3        1       44     951\n",
       "4        1       45     763"
      ]
     },
     "execution_count": 42,
     "metadata": {},
     "output_type": "execute_result"
    }
   ],
   "source": [
    "df_ori = pd.read_csv(f\"{path_o}/dataframe.csv\").drop([\"y_id\", \"x_id\", \"y(center)\", \"x(center)\", \"hospital\"], axis=1)\n",
    "df_ori.head()"
   ]
  },
  {
   "cell_type": "code",
   "execution_count": 43,
   "metadata": {},
   "outputs": [],
   "source": [
    "df_ori[\"reg_id\"] = df_ano[\"reg_id\"].astype(str)"
   ]
  },
  {
   "cell_type": "code",
   "execution_count": 44,
   "metadata": {},
   "outputs": [],
   "source": [
    "df_ori[\"reg_id\"].replace(\"-1\", \"*\", inplace=True)"
   ]
  },
  {
   "cell_type": "code",
   "execution_count": 45,
   "metadata": {},
   "outputs": [],
   "source": [
    "df_ori[\"reg_id\"].to_csv(\"anon/anotraces_team011_data02_TRP.csv\", index=False, header=\"reg_id\")"
   ]
  },
  {
   "cell_type": "code",
   "execution_count": null,
   "metadata": {},
   "outputs": [],
   "source": []
  }
 ],
 "metadata": {
  "kernelspec": {
   "display_name": "Python 3",
   "language": "python",
   "name": "python3"
  },
  "language_info": {
   "codemirror_mode": {
    "name": "ipython",
    "version": 3
   },
   "file_extension": ".py",
   "mimetype": "text/x-python",
   "name": "python",
   "nbconvert_exporter": "python",
   "pygments_lexer": "ipython3",
   "version": "3.7.4"
  }
 },
 "nbformat": 4,
 "nbformat_minor": 2
}
